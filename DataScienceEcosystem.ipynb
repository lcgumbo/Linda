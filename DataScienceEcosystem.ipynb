{
 "cells": [
  {
   "cell_type": "markdown",
   "id": "8ec28e9f",
   "metadata": {},
   "source": [
    "Data Science Tools and Ecosystem "
   ]
  },
  {
   "cell_type": "markdown",
   "id": "2a191d70",
   "metadata": {},
   "source": [
    "This notebook will provide an overview and summary of Data Science Tools and Ecosystem."
   ]
  },
  {
   "cell_type": "markdown",
   "id": "3459b876",
   "metadata": {},
   "source": [
    "Popular languages that data scientists use include:"
   ]
  },
  {
   "cell_type": "markdown",
   "id": "9482ad7d",
   "metadata": {},
   "source": [
    "1. R\n",
    "1. Python\n",
    "1. SQL\n",
    "1. Java\n",
    "1. Julia"
   ]
  },
  {
   "cell_type": "markdown",
   "id": "f90b4ff4",
   "metadata": {},
   "source": [
    "Commonly used libraries used by Data Scientists include:"
   ]
  },
  {
   "cell_type": "markdown",
   "id": "fe49aecf",
   "metadata": {},
   "source": [
    "1. Numpy\n",
    "1. Scipy\n",
    "1. Pandas\n",
    "1. Matplotlib"
   ]
  },
  {
   "cell_type": "markdown",
   "id": "208bdd16",
   "metadata": {},
   "source": [
    "|Data Science Tools|\n",
    "|Rstudio|\n",
    "|Apache Spark|\n",
    "|TensorFlow|"
   ]
  },
  {
   "cell_type": "markdown",
   "id": "92aa044b",
   "metadata": {},
   "source": [
    "# Objectives\n",
    "  ** List popular languages for data science\n",
    "  ** identify the libraries used by data scientists\n",
    "  ** list data science tools\n",
    "  ** evaluate arithmetic expressions in Python"
   ]
  },
  {
   "cell_type": "markdown",
   "id": "1107772a",
   "metadata": {},
   "source": [
    "### Examples of evaluating arithmetic expressions in Python"
   ]
  },
  {
   "cell_type": "code",
   "execution_count": 1,
   "id": "92fba8ee",
   "metadata": {},
   "outputs": [
    {
     "data": {
      "text/plain": [
       "17"
      ]
     },
     "execution_count": 1,
     "metadata": {},
     "output_type": "execute_result"
    }
   ],
   "source": [
    "(3*4)+5"
   ]
  },
  {
   "cell_type": "code",
   "execution_count": null,
   "id": "a69b77cf",
   "metadata": {},
   "outputs": [],
   "source": [
    "# This will convert 200 minutes to hours by diving by 60"
   ]
  },
  {
   "cell_type": "code",
   "execution_count": 5,
   "id": "2e8fff68",
   "metadata": {},
   "outputs": [
    {
     "data": {
      "text/plain": [
       "3.3333333333333335"
      ]
     },
     "execution_count": 5,
     "metadata": {},
     "output_type": "execute_result"
    }
   ],
   "source": [
    "200/60"
   ]
  },
  {
   "cell_type": "markdown",
   "id": "e12d14f5",
   "metadata": {},
   "source": [
    "## Author\n",
    "Linda Chengetanai Gumbo"
   ]
  },
  {
   "cell_type": "code",
   "execution_count": null,
   "id": "fba7e704",
   "metadata": {},
   "outputs": [],
   "source": [
    " "
   ]
  },
  {
   "cell_type": "code",
   "execution_count": null,
   "id": "2b653246",
   "metadata": {},
   "outputs": [],
   "source": []
  }
 ],
 "metadata": {
  "kernelspec": {
   "display_name": "Python 3 (ipykernel)",
   "language": "python",
   "name": "python3"
  },
  "language_info": {
   "codemirror_mode": {
    "name": "ipython",
    "version": 3
   },
   "file_extension": ".py",
   "mimetype": "text/x-python",
   "name": "python",
   "nbconvert_exporter": "python",
   "pygments_lexer": "ipython3",
   "version": "3.9.13"
  }
 },
 "nbformat": 4,
 "nbformat_minor": 5
}
